{
 "cells": [
  {
   "cell_type": "code",
   "execution_count": 1,
   "id": "initial_id",
   "metadata": {
    "ExecuteTime": {
     "end_time": "2024-03-15T12:07:46.908227Z",
     "start_time": "2024-03-15T12:07:46.714051Z"
    },
    "collapsed": true
   },
   "outputs": [],
   "source": [
    "import numpy as np\n",
    "\n",
    "def calculate_accompany_t(alpha,beta):\n",
    "    \"\"\"\n",
    "    alpha: 绕X轴的角度，注意正负\n",
    "    beta: 绕Y轴的角度，注意正负\n",
    "    \"\"\"\n",
    "    angle_x = np.radians(alpha)\n",
    "    angle_y = np.radians(beta)\n",
    "    t = np.array([np.sin(angle_y) * 0.1014, -((0.1014*np.cos(angle_y)+0.015)*np.sin(angle_x)), -(0.11640-((0.1014*np.cos(angle_y)+0.015)*np.cos(angle_x)))])\n",
    "    return t"
   ]
  },
  {
   "cell_type": "code",
   "execution_count": 6,
   "id": "dffb1db2",
   "metadata": {},
   "outputs": [
    {
     "data": {
      "text/plain": [
       "array([ 2.06928396,  0.94973469, -2.04290684])"
      ]
     },
     "execution_count": 6,
     "metadata": {},
     "output_type": "execute_result"
    }
   ],
   "source": [
    "T_accompany= calculate_accompany_t(34.37,43.10)\n",
    "\n",
    "T = np.asarray([2, 1, -2]) + T_accompany\n",
    "T "
   ]
  },
  {
   "cell_type": "code",
   "execution_count": null,
   "id": "6b9d2160",
   "metadata": {},
   "outputs": [],
   "source": []
  },
  {
   "cell_type": "code",
   "execution_count": null,
   "id": "2c0295f2",
   "metadata": {},
   "outputs": [],
   "source": []
  },
  {
   "cell_type": "code",
   "execution_count": 15,
   "id": "bc447de6",
   "metadata": {},
   "outputs": [],
   "source": [
    "x = np.sin(angle) * 101.4\n",
    "angle2 = np.radians(34.37)"
   ]
  },
  {
   "cell_type": "code",
   "execution_count": 20,
   "id": "6337646d",
   "metadata": {},
   "outputs": [
    {
     "data": {
      "text/plain": [
       "-42.906840107499306"
      ]
     },
     "execution_count": 20,
     "metadata": {},
     "output_type": "execute_result"
    }
   ],
   "source": [
    "-(116.40-((101.4*np.cos(angle)+15)*np.cos(angle2)))"
   ]
  },
  {
   "cell_type": "code",
   "execution_count": 19,
   "id": "5fda979e",
   "metadata": {},
   "outputs": [
    {
     "data": {
      "text/plain": [
       "-50.265314989305004"
      ]
     },
     "execution_count": 19,
     "metadata": {},
     "output_type": "execute_result"
    }
   ],
   "source": [
    "-((101.4*np.cos(angle)+15)*np.sin(angle2))"
   ]
  },
  {
   "cell_type": "code",
   "execution_count": 21,
   "id": "d6561d28",
   "metadata": {},
   "outputs": [],
   "source": [
    "def calculate_accompany_t(alpha,beta):\n",
    "    engle_x = np.radians(alpha)\n",
    "    engle_y = np.radians(beta)\n",
    "    t = np.array([np.sin(angle) * 101.4, -((101.4*np.cos(angle)+15)*np.sin(angle2)), -(116.40-((101.4*np.cos(angle)+15)*np.cos(angle2)))])\n",
    "    return t\n"
   ]
  },
  {
   "cell_type": "code",
   "execution_count": 22,
   "id": "023c766e",
   "metadata": {},
   "outputs": [
    {
     "data": {
      "text/plain": [
       "array([ 69.28396065, -50.26531499, -42.90684011])"
      ]
     },
     "execution_count": 22,
     "metadata": {},
     "output_type": "execute_result"
    }
   ],
   "source": [
    "T = calculate_accompany_t(43.10, 34.37)\n",
    "T"
   ]
  },
  {
   "cell_type": "code",
   "execution_count": null,
   "id": "64b84ff6",
   "metadata": {},
   "outputs": [],
   "source": []
  },
  {
   "cell_type": "code",
   "execution_count": null,
   "id": "c119cd40",
   "metadata": {},
   "outputs": [],
   "source": []
  },
  {
   "cell_type": "code",
   "execution_count": 2,
   "id": "2af2a811f1ac9410",
   "metadata": {
    "ExecuteTime": {
     "end_time": "2024-03-15T12:07:46.924159Z",
     "start_time": "2024-03-15T12:07:46.910219Z"
    },
    "collapsed": false
   },
   "outputs": [],
   "source": [
    "# 通过列表创建矩阵\n",
    "matrix_e = np.array([[1, 0, 0], [0, 1, 0], [0, 0, 1]])\n",
    "matrix_u = np.array([[1/2**0.5, 1/(2**0.5), 0], [-1/(2**0.5), 1/(2**0.5), 0], [0, 0, 1]])\n",
    "\n"
   ]
  },
  {
   "cell_type": "code",
   "execution_count": 3,
   "id": "8c278046523c420b",
   "metadata": {
    "ExecuteTime": {
     "end_time": "2024-03-15T12:07:46.939622Z",
     "start_time": "2024-03-15T12:07:46.926151Z"
    },
    "collapsed": false
   },
   "outputs": [
    {
     "name": "stdout",
     "output_type": "stream",
     "text": [
      "[[1 0 0]\n",
      " [0 1 0]\n",
      " [0 0 1]]\n"
     ]
    }
   ],
   "source": [
    "print(matrix_e)"
   ]
  },
  {
   "cell_type": "code",
   "execution_count": 4,
   "id": "661af9a621aa49b1",
   "metadata": {
    "ExecuteTime": {
     "end_time": "2024-03-15T12:07:46.971480Z",
     "start_time": "2024-03-15T12:07:46.952568Z"
    },
    "collapsed": false
   },
   "outputs": [
    {
     "name": "stdout",
     "output_type": "stream",
     "text": [
      "[[ 0.70710678  0.70710678  0.        ]\n",
      " [-0.70710678  0.70710678  0.        ]\n",
      " [ 0.          0.          1.        ]]\n"
     ]
    }
   ],
   "source": [
    "print(matrix_u)"
   ]
  },
  {
   "cell_type": "code",
   "execution_count": 5,
   "id": "ad2db3faee1a78f3",
   "metadata": {
    "ExecuteTime": {
     "end_time": "2024-03-15T12:07:46.987414Z",
     "start_time": "2024-03-15T12:07:46.973473Z"
    },
    "collapsed": false
   },
   "outputs": [
    {
     "data": {
      "text/plain": [
       "array([2, 4, 5])"
      ]
     },
     "execution_count": 5,
     "metadata": {},
     "output_type": "execute_result"
    }
   ],
   "source": [
    "a = np.array([2,4,5])\n",
    "a"
   ]
  },
  {
   "cell_type": "code",
   "execution_count": 6,
   "id": "5d84f334e4ce8264",
   "metadata": {
    "ExecuteTime": {
     "end_time": "2024-03-15T12:07:47.003347Z",
     "start_time": "2024-03-15T12:07:46.989407Z"
    },
    "collapsed": false
   },
   "outputs": [
    {
     "name": "stdout",
     "output_type": "stream",
     "text": [
      "[[ 0.70710678 -0.70710678  0.        ]\n",
      " [ 0.70710678  0.70710678  0.        ]\n",
      " [ 0.          0.          1.        ]]\n"
     ]
    }
   ],
   "source": [
    "transposed_matrix_u = np.transpose(matrix_u)  #旋转矩阵，转置之后左乘\n",
    "print(transposed_matrix_u)"
   ]
  },
  {
   "cell_type": "code",
   "execution_count": 7,
   "id": "546095be424d97d0",
   "metadata": {
    "ExecuteTime": {
     "end_time": "2024-03-15T12:07:47.018284Z",
     "start_time": "2024-03-15T12:07:47.005338Z"
    },
    "collapsed": false
   },
   "outputs": [
    {
     "name": "stdout",
     "output_type": "stream",
     "text": [
      "[[ 0.70710678 -0.70710678  0.        ]\n",
      " [ 0.70710678  0.70710678  0.        ]\n",
      " [ 0.          0.          1.        ]]\n"
     ]
    }
   ],
   "source": [
    "result_multiplication = np.dot(transposed_matrix_u, matrix_e)\n",
    "print(result_multiplication)"
   ]
  },
  {
   "cell_type": "code",
   "execution_count": 8,
   "id": "ccdb321e414d3a3",
   "metadata": {
    "ExecuteTime": {
     "end_time": "2024-03-15T12:07:47.033219Z",
     "start_time": "2024-03-15T12:07:47.021271Z"
    },
    "collapsed": false
   },
   "outputs": [
    {
     "name": "stdout",
     "output_type": "stream",
     "text": [
      "[-1.41421356  4.24264069  5.        ]\n"
     ]
    }
   ],
   "source": [
    "output_a = np.dot(result_multiplication, a)\n",
    "print(output_a)"
   ]
  },
  {
   "cell_type": "code",
   "execution_count": 9,
   "id": "a4221afcf3b0b04a",
   "metadata": {
    "ExecuteTime": {
     "end_time": "2024-03-15T12:07:47.049152Z",
     "start_time": "2024-03-15T12:07:47.035211Z"
    },
    "collapsed": false
   },
   "outputs": [
    {
     "data": {
      "text/plain": [
       "array([[1],\n",
       "       [2],\n",
       "       [3]])"
      ]
     },
     "execution_count": 9,
     "metadata": {},
     "output_type": "execute_result"
    }
   ],
   "source": [
    "t = np.array([1, 2, 3])\n",
    "t\n",
    "t[ :, np.newaxis]"
   ]
  },
  {
   "cell_type": "code",
   "execution_count": 10,
   "id": "85cf18f363d36827",
   "metadata": {
    "ExecuteTime": {
     "end_time": "2024-03-15T12:07:47.080021Z",
     "start_time": "2024-03-15T12:07:47.056120Z"
    },
    "collapsed": false
   },
   "outputs": [
    {
     "name": "stdout",
     "output_type": "stream",
     "text": [
      "[-0.41421356  6.24264069  8.        ]\n"
     ]
    }
   ],
   "source": [
    "output_b = output_a + t\n",
    "print(output_b)"
   ]
  },
  {
   "cell_type": "code",
   "execution_count": 11,
   "id": "7dc1752383d03e0f",
   "metadata": {
    "ExecuteTime": {
     "end_time": "2024-03-15T12:07:47.111885Z",
     "start_time": "2024-03-15T12:07:47.084002Z"
    },
    "collapsed": false
   },
   "outputs": [
    {
     "name": "stdout",
     "output_type": "stream",
     "text": [
      "[[[1]\n",
      "  [2]\n",
      "  [3]]\n",
      "\n",
      " [[4]\n",
      "  [5]\n",
      "  [6]]]\n"
     ]
    },
    {
     "data": {
      "text/plain": [
       "array([1, 2, 3, 1])"
      ]
     },
     "execution_count": 11,
     "metadata": {},
     "output_type": "execute_result"
    }
   ],
   "source": [
    "import numpy as np\n",
    "\n",
    "# 创建一个二维矩阵\n",
    "matrix = np.array([[1, 2, 3],\n",
    "                   [4, 5, 6]])\n",
    "\n",
    "# 在行上添加新的维度，即将二维矩阵变为三维矩阵\n",
    "expanded_matrix = matrix[:, :, np.newaxis]\n",
    "print(expanded_matrix)\n",
    "np.hstack(( t, np.array([1])))"
   ]
  },
  {
   "cell_type": "code",
   "execution_count": 18,
   "id": "82b52b3557d54e30",
   "metadata": {
    "ExecuteTime": {
     "end_time": "2024-03-15T12:13:43.203785Z",
     "start_time": "2024-03-15T12:13:43.187800Z"
    },
    "collapsed": false
   },
   "outputs": [
    {
     "data": {
      "text/plain": [
       "array([[ 0.70710678, -0.70710678,  0.        ,  1.        ],\n",
       "       [ 0.70710678,  0.70710678,  0.        ,  2.        ],\n",
       "       [ 0.        ,  0.        ,  1.        ,  3.        ],\n",
       "       [ 0.        ,  0.        ,  0.        ,  1.        ]])"
      ]
     },
     "execution_count": 18,
     "metadata": {},
     "output_type": "execute_result"
    }
   ],
   "source": [
    "# 使用了齐次坐标下面的欧氏变换\n",
    "\n",
    "np.vstack((result_multiplication, [0, 0, 0]))\n",
    "np.hstack(( t, np.array([1])))\n",
    "mm = np.hstack((np.vstack((result_multiplication, [0, 0, 0])), np.hstack(( t, np.array([1])))[:, np.newaxis]))\n",
    "mm"
   ]
  },
  {
   "cell_type": "code",
   "execution_count": 17,
   "id": "ae197df13b5c96d6",
   "metadata": {
    "ExecuteTime": {
     "end_time": "2024-03-15T12:12:12.824686Z",
     "start_time": "2024-03-15T12:12:12.812224Z"
    },
    "collapsed": false
   },
   "outputs": [],
   "source": [
    "import pandas as pd\n",
    "\n",
    "# 假设 matrix 是你要保存的矩阵\n",
    "\n",
    "\n",
    "# 创建 DataFrame 对象\n",
    "df = pd.DataFrame(mm)\n",
    "\n",
    "# 保存 DataFrame 到 CSV 文件\n",
    "df.to_csv('matrix.csv', index=False, header=False)\n"
   ]
  },
  {
   "cell_type": "markdown",
   "id": "7ca082fffc5b1df1",
   "metadata": {
    "collapsed": false
   },
   "source": []
  },
  {
   "cell_type": "code",
   "execution_count": 13,
   "id": "47a4438cc0919d18",
   "metadata": {
    "ExecuteTime": {
     "end_time": "2024-03-15T12:07:47.222416Z",
     "start_time": "2024-03-15T12:07:47.202501Z"
    },
    "collapsed": false
   },
   "outputs": [
    {
     "data": {
      "text/plain": [
       "array([-0.41421356,  6.24264069,  8.        ,  1.        ])"
      ]
     },
     "execution_count": 13,
     "metadata": {},
     "output_type": "execute_result"
    }
   ],
   "source": [
    "np.dot(mm,np.array([2,4,5,1]))"
   ]
  },
  {
   "cell_type": "code",
   "execution_count": 14,
   "id": "cf17a31b620ebe95",
   "metadata": {
    "ExecuteTime": {
     "end_time": "2024-03-15T12:07:47.332947Z",
     "start_time": "2024-03-15T12:07:47.321993Z"
    },
    "collapsed": false
   },
   "outputs": [],
   "source": [
    "## 欧拉角就是一种将复杂三维旋转变换分解为分别绕三个独立轴转动角度的复合变换的描述，它使用了3个分离的转角，把一个旋转分解成3次绕不同轴的旋转。\n",
    "## 需要明确旋转顺序，才能确定最终欧拉角所指的姿态"
   ]
  },
  {
   "cell_type": "code",
   "execution_count": 15,
   "id": "fe0f61520612c963",
   "metadata": {
    "ExecuteTime": {
     "end_time": "2024-03-15T12:07:47.411624Z",
     "start_time": "2024-03-15T12:07:47.385723Z"
    },
    "collapsed": false
   },
   "outputs": [
    {
     "name": "stdout",
     "output_type": "stream",
     "text": [
      "[[ 0.96592583  0.         -0.25881905]\n",
      " [ 0.0669873   0.96592583  0.25      ]\n",
      " [ 0.25       -0.25881905  0.9330127 ]]\n"
     ]
    }
   ],
   "source": [
    "import numpy as np\n",
    "def euler_to_rotation_matrix(yaw, pitch, roll):\n",
    "    # Convert degrees to radians\n",
    "    yaw_rad = np.radians(yaw)\n",
    "    pitch_rad = np.radians(pitch)\n",
    "    roll_rad = np.radians(roll)\n",
    "\n",
    "    # Calculate rotation matrix\n",
    "    R_x = np.array([[1, 0, 0],\n",
    "                    [0, np.cos(roll_rad), -np.sin(roll_rad)],\n",
    "                    [0, np.sin(roll_rad), np.cos(roll_rad)]])\n",
    "\n",
    "    R_y = np.array([[np.cos(pitch_rad), 0, np.sin(pitch_rad)],\n",
    "                    [0, 1, 0],\n",
    "                    [-np.sin(pitch_rad), 0, np.cos(pitch_rad)]])\n",
    "\n",
    "    R_z = np.array([[np.cos(yaw_rad), -np.sin(yaw_rad), 0],\n",
    "                    [np.sin(yaw_rad), np.cos(yaw_rad), 0],\n",
    "                    [0, 0, 1]])\n",
    "\n",
    "    # Combine the rotations in ZYX order\n",
    "    #R = np.dot(R_z, np.dot(R_y, R_x))\n",
    "    #R = np.dot(R_y, np.dot(R_z, R_x))\n",
    "    R = np.dot(R_x, np.dot(R_y, R_z))\n",
    "    #R = np.dot(R_z, np.dot(R_y, R_x))\n",
    "    return R\n",
    "# 示例用法\n",
    "yaw_angle =0   # 偏航角Z\n",
    "pitch_angle = -15 # 俯仰角Y\n",
    "roll_angle = -15  # 滚转角X\n",
    "\n",
    "rotation_matrix = euler_to_rotation_matrix(yaw_angle, pitch_angle, roll_angle)\n",
    "\n",
    "print(rotation_matrix)"
   ]
  },
  {
   "cell_type": "code",
   "execution_count": 15,
   "id": "b9d2f546dac0e4f1",
   "metadata": {
    "ExecuteTime": {
     "end_time": "2024-03-15T12:07:47.459087Z",
     "start_time": "2024-03-15T12:07:47.442145Z"
    },
    "collapsed": false
   },
   "outputs": [],
   "source": []
  }
 ],
 "metadata": {
  "kernelspec": {
   "display_name": "Python 3",
   "language": "python",
   "name": "python3"
  },
  "language_info": {
   "codemirror_mode": {
    "name": "ipython",
    "version": 3
   },
   "file_extension": ".py",
   "mimetype": "text/x-python",
   "name": "python",
   "nbconvert_exporter": "python",
   "pygments_lexer": "ipython3",
   "version": "3.10.13"
  }
 },
 "nbformat": 4,
 "nbformat_minor": 5
}
